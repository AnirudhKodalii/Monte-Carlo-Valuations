{
 "cells": [
  {
   "cell_type": "markdown",
   "id": "f4c0025f",
   "metadata": {},
   "source": [
    "https://www.sec.gov/Archives/edgar/data/895421/000183988225020937/ms7561_424b2-11018.htm"
   ]
  },
  {
   "cell_type": "code",
   "execution_count": 106,
   "id": "3f135e2d",
   "metadata": {},
   "outputs": [],
   "source": [
    "import pandas as pd\n",
    "import numpy as np\n",
    "import matplotlib.pyplot as plt"
   ]
  },
  {
   "cell_type": "code",
   "execution_count": 107,
   "id": "0b35af45",
   "metadata": {},
   "outputs": [],
   "source": [
    "T0 = pd.to_datetime('2025-04-04', format='%Y-%m-%d')\n",
    "T1 = pd.to_datetime('2025-07-02', format = '%Y-%m-%d')\n",
    "T2 = pd.to_datetime('2030-01-02', format='%Y-%m-%d')\n",
    "Tfinal = pd.to_datetime('2030-03-29', format='%Y-%m-%d')"
   ]
  },
  {
   "cell_type": "code",
   "execution_count": 109,
   "id": "aeea877f",
   "metadata": {},
   "outputs": [
    {
     "name": "stdout",
     "output_type": "stream",
     "text": [
      "91 86\n"
     ]
    }
   ],
   "source": [
    "IA_days = (T1-T0).days+2\n",
    "FA_days = (Tfinal-T2).days\n",
    "IA_FA_Jump = (T2-T1).days\n",
    "print(IA_days, FA_days)"
   ]
  },
  {
   "cell_type": "code",
   "execution_count": 110,
   "id": "d79828e1",
   "metadata": {},
   "outputs": [],
   "source": [
    "IA0 = (1910.55 + 1827.03)/2\n",
    "S0 = 1827.03"
   ]
  },
  {
   "cell_type": "code",
   "execution_count": 117,
   "id": "77351bbd",
   "metadata": {},
   "outputs": [
    {
     "name": "stdout",
     "output_type": "stream",
     "text": [
      "Counts:  [ 2  5  9 14 20 15 12 10 10  3]\n",
      "Bin edges:  [982.07845389 982.81608931 983.55372474 984.29136016 985.02899559\n",
      " 985.76663101 986.50426644 987.24190186 987.97953728 988.71717271\n",
      " 989.45480813]\n"
     ]
    }
   ],
   "source": [
    "# Monte Carlo Simulation Parameters\n",
    "N = 7000  # Number of paths\n",
    "Simulations = 100  # Number of simulations\n",
    "r = 0.0335  # drift\n",
    "sigma = 0.208  # volatility\n",
    "\n",
    "#no. of days in initial and final averaging periods for simulation\n",
    "n_ia = IA_days-2\n",
    "n_fa = FA_days\n",
    "\n",
    "S_ia = np.zeros((N+1, n_ia+1))\n",
    "S_fa = np.zeros((N+1, n_fa+1))\n",
    "IA = np.zeros(N+1)\n",
    "FA = np.zeros(N+1)    \n",
    "K = np.zeros(N+1)\n",
    "Payoff = np.zeros(N+1)\n",
    "\n",
    "Payoff_final = np.zeros(Simulations)\n",
    "\n",
    "for q in range(Simulations):\n",
    "    for i in range(1,N+1):\n",
    "        S_ia[i][0] = S0\n",
    "\n",
    "    for i in range(1,N+1):\n",
    "        for j in range(1,n_ia+1):\n",
    "            S_ia[i][j] = S_ia[i][j-1]*np.exp((r-0.5*sigma**2)*1/365 + sigma*np.sqrt(1/365)*np.random.normal(0,1))\n",
    "        \n",
    "        S_fa[i][1] = S_ia[i][n_ia]*np.exp((r-0.5*sigma**2)*(IA_FA_Jump)/365 + sigma*np.sqrt(IA_FA_Jump/365)*np.random.normal(0,1))\n",
    "\n",
    "        for j in range(2, n_fa+1):\n",
    "            S_fa[i][j] = S_fa[i][j-1]*np.exp((r-0.5*sigma**2)*1/365 + sigma*np.sqrt(1/365)*np.random.normal(0,1))\n",
    "\n",
    "    for i in range(1,N+1):\n",
    "        IA[i] = (S_ia[i][1:].sum()+ IA0 )/(n_ia+1)\n",
    "        FA[i] = S_ia[i][1:].mean()\n",
    "        K[i] = 0.85 * IA[i]\n",
    "\n",
    "        # Calculate the payoff\n",
    "        if FA[i] > IA[i]:\n",
    "            Payoff[i] = min(1553.5, 1385 + 0.525*1000*(FA[i] - IA[i])/IA[i])\n",
    "        elif FA[i] > K[i]:\n",
    "            Payoff[i] = 1000+ 0.257*1000*(FA[i] - K[i])/IA[i]\n",
    "        else:\n",
    "            Payoff[i] = 150 + 1000*FA[i]/IA[i]\n",
    "        Payoff[i] = np.exp(-r*(Tfinal - T0).days/365) * Payoff[i]\n",
    "\n",
    "    Payoff_final[q] = Payoff[1:].mean()\n",
    "\n",
    "counts, bin_edges = np.histogram(Payoff_final, bins = 10)\n",
    "print(\"Counts: \", counts)\n",
    "print(\"Bin edges: \", bin_edges)"
   ]
  },
  {
   "cell_type": "code",
   "execution_count": 118,
   "id": "d052790d",
   "metadata": {},
   "outputs": [
    {
     "data": {
      "text/plain": [
       "Text(0.5, 1.0, 'Histogram of Payoffs')"
      ]
     },
     "execution_count": 118,
     "metadata": {},
     "output_type": "execute_result"
    },
    {
     "data": {
      "image/png": "[encoded data removed]",
      "text/plain": [
       "<Figure size 1000x600 with 1 Axes>"
      ]
     },
     "metadata": {},
     "output_type": "display_data"
    }
   ],
   "source": [
    "plt.figure(figsize = (10,6))\n",
    "plt.hist(Payoff_final, bins = 10, alpha=0.7, color='blue', edgecolor='black')\n",
    "plt.title('Histogram of Payoffs')"
   ]
  }
 ],
 "metadata": {
  "kernelspec": {
   "display_name": "Python [conda env:base] *",
   "language": "python",
   "name": "conda-base-py"
  },
  "language_info": {
   "codemirror_mode": {
    "name": "ipython",
    "version": 3
   },
   "file_extension": ".py",
   "mimetype": "text/x-python",
   "name": "python",
   "nbconvert_exporter": "python",
   "pygments_lexer": "ipython3",
   "version": "3.12.7"
  }
 },
 "nbformat": 4,
 "nbformat_minor": 5
}
